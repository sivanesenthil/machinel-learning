{
 "cells": [
  {
   "cell_type": "code",
   "execution_count": 1,
   "id": "a2cfc682",
   "metadata": {},
   "outputs": [],
   "source": [
    "import pandas as pd\n",
    "\n",
    "# Load the dataset\n",
    "df = pd.read_csv('Mobile Price Prediction Datatset.csv')"
   ]
  },
  {
   "cell_type": "code",
   "execution_count": 2,
   "id": "3f646d6b",
   "metadata": {},
   "outputs": [],
   "source": [
    "# a. Find the number of phones with 4GB RAM\n",
    "num_phones_4gb_ram = df[df['RAM'] == 4].shape[0]"
   ]
  },
  {
   "cell_type": "code",
   "execution_count": 3,
   "id": "f91c76e6",
   "metadata": {},
   "outputs": [],
   "source": [
    "# b. Average cost of phones with Selfi_Cam between 5 and 10\n",
    "avg_cost_selfie_cam_5_to_10 = df[(df['Selfi_Cam'] >= 5) & (df['Selfi_Cam'] <= 10)]['Price'].mean()"
   ]
  },
  {
   "cell_type": "code",
   "execution_count": 4,
   "id": "c1f9873d",
   "metadata": {},
   "outputs": [],
   "source": [
    "# c. Correlation between RAM and ROM\n",
    "correlation_ram_rom = df['RAM'].corr(df['ROM'])"
   ]
  },
  {
   "cell_type": "code",
   "execution_count": 5,
   "id": "fc0a6180",
   "metadata": {},
   "outputs": [
    {
     "data": {
      "text/plain": [
       "113"
      ]
     },
     "execution_count": 5,
     "metadata": {},
     "output_type": "execute_result"
    }
   ],
   "source": [
    "num_phones_4gb_ram"
   ]
  },
  {
   "cell_type": "code",
   "execution_count": 6,
   "id": "88930db7",
   "metadata": {},
   "outputs": [
    {
     "data": {
      "text/plain": [
       "25851.353982300883"
      ]
     },
     "execution_count": 6,
     "metadata": {},
     "output_type": "execute_result"
    }
   ],
   "source": [
    "avg_cost_selfie_cam_5_to_10"
   ]
  },
  {
   "cell_type": "code",
   "execution_count": 7,
   "id": "7760994a",
   "metadata": {},
   "outputs": [
    {
     "data": {
      "text/plain": [
       "0.25204063550214456"
      ]
     },
     "execution_count": 7,
     "metadata": {},
     "output_type": "execute_result"
    }
   ],
   "source": [
    "correlation_ram_rom"
   ]
  },
  {
   "cell_type": "code",
   "execution_count": null,
   "id": "9b91ea97",
   "metadata": {},
   "outputs": [],
   "source": []
  }
 ],
 "metadata": {
  "kernelspec": {
   "display_name": "Python 3 (ipykernel)",
   "language": "python",
   "name": "python3"
  },
  "language_info": {
   "codemirror_mode": {
    "name": "ipython",
    "version": 3
   },
   "file_extension": ".py",
   "mimetype": "text/x-python",
   "name": "python",
   "nbconvert_exporter": "python",
   "pygments_lexer": "ipython3",
   "version": "3.9.13"
  }
 },
 "nbformat": 4,
 "nbformat_minor": 5
}
