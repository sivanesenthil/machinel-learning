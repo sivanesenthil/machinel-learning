{
 "cells": [
  {
   "cell_type": "code",
   "execution_count": 1,
   "id": "a7bec35b",
   "metadata": {},
   "outputs": [],
   "source": [
    "import pandas as pd\n",
    "import numpy as np"
   ]
  },
  {
   "cell_type": "code",
   "execution_count": 2,
   "id": "f1e3a186",
   "metadata": {},
   "outputs": [
    {
     "data": {
      "text/html": [
       "<div>\n",
       "<style scoped>\n",
       "    .dataframe tbody tr th:only-of-type {\n",
       "        vertical-align: middle;\n",
       "    }\n",
       "\n",
       "    .dataframe tbody tr th {\n",
       "        vertical-align: top;\n",
       "    }\n",
       "\n",
       "    .dataframe thead th {\n",
       "        text-align: right;\n",
       "    }\n",
       "</style>\n",
       "<table border=\"1\" class=\"dataframe\">\n",
       "  <thead>\n",
       "    <tr style=\"text-align: right;\">\n",
       "      <th></th>\n",
       "      <th>mpg</th>\n",
       "      <th>cylinders</th>\n",
       "      <th>displacement</th>\n",
       "      <th>horsepower</th>\n",
       "      <th>weight</th>\n",
       "      <th>acceleration</th>\n",
       "      <th>model year</th>\n",
       "      <th>origin</th>\n",
       "      <th>car name</th>\n",
       "    </tr>\n",
       "  </thead>\n",
       "  <tbody>\n",
       "    <tr>\n",
       "      <th>0</th>\n",
       "      <td>18.0</td>\n",
       "      <td>8</td>\n",
       "      <td>307.0</td>\n",
       "      <td>130</td>\n",
       "      <td>3504</td>\n",
       "      <td>12.0</td>\n",
       "      <td>70</td>\n",
       "      <td>1</td>\n",
       "      <td>chevrolet chevelle malibu</td>\n",
       "    </tr>\n",
       "    <tr>\n",
       "      <th>1</th>\n",
       "      <td>15.0</td>\n",
       "      <td>8</td>\n",
       "      <td>350.0</td>\n",
       "      <td>165</td>\n",
       "      <td>3693</td>\n",
       "      <td>11.5</td>\n",
       "      <td>70</td>\n",
       "      <td>1</td>\n",
       "      <td>buick skylark 320</td>\n",
       "    </tr>\n",
       "    <tr>\n",
       "      <th>2</th>\n",
       "      <td>18.0</td>\n",
       "      <td>8</td>\n",
       "      <td>318.0</td>\n",
       "      <td>150</td>\n",
       "      <td>3436</td>\n",
       "      <td>11.0</td>\n",
       "      <td>70</td>\n",
       "      <td>1</td>\n",
       "      <td>plymouth satellite</td>\n",
       "    </tr>\n",
       "    <tr>\n",
       "      <th>3</th>\n",
       "      <td>16.0</td>\n",
       "      <td>8</td>\n",
       "      <td>304.0</td>\n",
       "      <td>150</td>\n",
       "      <td>3433</td>\n",
       "      <td>12.0</td>\n",
       "      <td>70</td>\n",
       "      <td>1</td>\n",
       "      <td>amc rebel sst</td>\n",
       "    </tr>\n",
       "    <tr>\n",
       "      <th>4</th>\n",
       "      <td>17.0</td>\n",
       "      <td>8</td>\n",
       "      <td>302.0</td>\n",
       "      <td>140</td>\n",
       "      <td>3449</td>\n",
       "      <td>10.5</td>\n",
       "      <td>70</td>\n",
       "      <td>1</td>\n",
       "      <td>ford torino</td>\n",
       "    </tr>\n",
       "  </tbody>\n",
       "</table>\n",
       "</div>"
      ],
      "text/plain": [
       "    mpg  cylinders  displacement horsepower  weight  acceleration  model year  \\\n",
       "0  18.0          8         307.0        130    3504          12.0          70   \n",
       "1  15.0          8         350.0        165    3693          11.5          70   \n",
       "2  18.0          8         318.0        150    3436          11.0          70   \n",
       "3  16.0          8         304.0        150    3433          12.0          70   \n",
       "4  17.0          8         302.0        140    3449          10.5          70   \n",
       "\n",
       "   origin                   car name  \n",
       "0       1  chevrolet chevelle malibu  \n",
       "1       1          buick skylark 320  \n",
       "2       1         plymouth satellite  \n",
       "3       1              amc rebel sst  \n",
       "4       1                ford torino  "
      ]
     },
     "execution_count": 2,
     "metadata": {},
     "output_type": "execute_result"
    }
   ],
   "source": [
    "df=pd.read_csv(\"auto-mpg.csv\")\n",
    "df.head()"
   ]
  },
  {
   "cell_type": "code",
   "execution_count": 3,
   "id": "0b81aa7c",
   "metadata": {},
   "outputs": [
    {
     "data": {
      "text/plain": [
       "mpg             0\n",
       "cylinders       0\n",
       "displacement    0\n",
       "horsepower      6\n",
       "weight          0\n",
       "acceleration    0\n",
       "model year      0\n",
       "origin          0\n",
       "car name        0\n",
       "dtype: int64"
      ]
     },
     "execution_count": 3,
     "metadata": {},
     "output_type": "execute_result"
    }
   ],
   "source": [
    "df['horsepower']=df['horsepower'].replace('?',np.nan)\n",
    "df.isna().sum()"
   ]
  },
  {
   "cell_type": "code",
   "execution_count": 4,
   "id": "2397b44d",
   "metadata": {},
   "outputs": [],
   "source": [
    "df['horsepower']=df['horsepower'].fillna(df['horsepower'].median())"
   ]
  },
  {
   "cell_type": "code",
   "execution_count": 5,
   "id": "4de1d556",
   "metadata": {},
   "outputs": [],
   "source": [
    "df=df.drop('car name',axis=1)"
   ]
  },
  {
   "cell_type": "code",
   "execution_count": 6,
   "id": "5e6b3dc8",
   "metadata": {},
   "outputs": [
    {
     "data": {
      "text/plain": [
       "mpg             float64\n",
       "cylinders         int64\n",
       "displacement    float64\n",
       "horsepower       object\n",
       "weight            int64\n",
       "acceleration    float64\n",
       "model year        int64\n",
       "origin            int64\n",
       "dtype: object"
      ]
     },
     "execution_count": 6,
     "metadata": {},
     "output_type": "execute_result"
    }
   ],
   "source": [
    "df.dtypes"
   ]
  },
  {
   "cell_type": "code",
   "execution_count": 7,
   "id": "04f837be",
   "metadata": {},
   "outputs": [],
   "source": [
    "y = df['mpg']\n",
    "x=df.drop(['mpg'],axis=1)"
   ]
  },
  {
   "cell_type": "code",
   "execution_count": 8,
   "id": "f71ab00d",
   "metadata": {},
   "outputs": [],
   "source": [
    "from sklearn.linear_model import LinearRegression\n",
    "from sklearn.model_selection import train_test_split\n",
    "from sklearn.preprocessing import StandardScaler"
   ]
  },
  {
   "cell_type": "code",
   "execution_count": 9,
   "id": "44a6d1ff",
   "metadata": {},
   "outputs": [],
   "source": [
    "sc=StandardScaler()\n",
    "x_scaled = sc.fit_transform(x)\n",
    "y_scaled = sc.fit_transform(y.values.reshape(-1,1))"
   ]
  },
  {
   "cell_type": "code",
   "execution_count": 10,
   "id": "a895ebb5",
   "metadata": {},
   "outputs": [],
   "source": [
    "X_train, X_test, y_train, y_test = train_test_split(x_scaled,y_scaled, test_size=0.25,random_state=45)"
   ]
  },
  {
   "cell_type": "code",
   "execution_count": 11,
   "id": "c8244433",
   "metadata": {},
   "outputs": [
    {
     "name": "stdout",
     "output_type": "stream",
     "text": [
      "(298, 7)\n",
      "(100, 7)\n",
      "(298, 1)\n",
      "(100, 1)\n"
     ]
    }
   ],
   "source": [
    "print(X_train.shape)\n",
    "print(X_test.shape)\n",
    "print(y_train.shape)\n",
    "print(y_test.shape)"
   ]
  },
  {
   "cell_type": "code",
   "execution_count": 12,
   "id": "4321bb55",
   "metadata": {},
   "outputs": [],
   "source": [
    "lr = LinearRegression()"
   ]
  },
  {
   "cell_type": "code",
   "execution_count": 13,
   "id": "bb63dc8d",
   "metadata": {},
   "outputs": [
    {
     "data": {
      "text/plain": [
       "LinearRegression()"
      ]
     },
     "execution_count": 13,
     "metadata": {},
     "output_type": "execute_result"
    }
   ],
   "source": [
    "lr.fit(X_train, y_train)"
   ]
  },
  {
   "cell_type": "code",
   "execution_count": 14,
   "id": "ab7400dd",
   "metadata": {},
   "outputs": [],
   "source": [
    "y_pred=lr.predict(X_test)"
   ]
  },
  {
   "cell_type": "code",
   "execution_count": 15,
   "id": "0d474bb4",
   "metadata": {},
   "outputs": [
    {
     "data": {
      "text/plain": [
       "0.8201375936857613"
      ]
     },
     "execution_count": 15,
     "metadata": {},
     "output_type": "execute_result"
    }
   ],
   "source": [
    "from sklearn.metrics import r2_score\n",
    "lr.score(X_train,y_train)"
   ]
  },
  {
   "cell_type": "code",
   "execution_count": 16,
   "id": "4791bbdd",
   "metadata": {},
   "outputs": [
    {
     "data": {
      "text/plain": [
       "LinearRegression()"
      ]
     },
     "execution_count": 16,
     "metadata": {},
     "output_type": "execute_result"
    }
   ],
   "source": [
    "from sklearn.preprocessing import PolynomialFeatures\n",
    "from sklearn.metrics import mean_squared_error, r2_score\n",
    "\n",
    "poly = PolynomialFeatures(degree = 9)\n",
    "\n",
    "x_poly_train = poly.fit_transform(X_train)\n",
    "x_poly_test = poly.fit_transform(X_test)\n",
    "\n",
    "lr2 = LinearRegression()\n",
    "lr2.fit(x_poly_train, y_train)"
   ]
  },
  {
   "cell_type": "code",
   "execution_count": 17,
   "id": "b540108e",
   "metadata": {},
   "outputs": [
    {
     "data": {
      "text/plain": [
       "array([[ 4.14871150e-01],\n",
       "       [ 7.71612149e-01],\n",
       "       [-1.39886432e+00],\n",
       "       [ 2.63504118e+00],\n",
       "       [ 1.05497191e+00],\n",
       "       [-7.15654695e+00],\n",
       "       [-1.87424677e+01],\n",
       "       [-4.77133064e-01],\n",
       "       [ 6.21479391e-02],\n",
       "       [-4.05490925e+01],\n",
       "       [-2.60438432e-01],\n",
       "       [-1.83052460e+01],\n",
       "       [ 1.30299196e+00],\n",
       "       [-5.16458224e-01],\n",
       "       [-5.01721706e+01],\n",
       "       [ 6.39306048e+00],\n",
       "       [-1.05783215e+00],\n",
       "       [-6.62425908e+00],\n",
       "       [-1.37608642e+00],\n",
       "       [-7.06938871e-01],\n",
       "       [ 2.38055664e+00],\n",
       "       [-2.92770781e-01],\n",
       "       [ 2.71608917e+00],\n",
       "       [ 1.09032440e+00],\n",
       "       [-1.00559114e-01],\n",
       "       [ 3.61468889e-01],\n",
       "       [-9.23385477e-03],\n",
       "       [-5.43402797e-01],\n",
       "       [ 4.53482552e+00],\n",
       "       [-9.73600478e-01],\n",
       "       [-1.90090691e+00],\n",
       "       [ 1.17360012e-01],\n",
       "       [-9.33687903e+00],\n",
       "       [ 1.41734103e+00],\n",
       "       [ 2.00380505e+00],\n",
       "       [-7.63467998e+00],\n",
       "       [-5.74625739e-01],\n",
       "       [-5.83234603e-01],\n",
       "       [ 6.00308831e-01],\n",
       "       [ 2.20701826e-01],\n",
       "       [-9.55013508e-02],\n",
       "       [ 1.06780863e+03],\n",
       "       [ 2.38722467e+00],\n",
       "       [ 7.82488384e-01],\n",
       "       [ 1.56640313e+00],\n",
       "       [-3.24628301e+00],\n",
       "       [ 5.45999748e-01],\n",
       "       [-3.82923140e-01],\n",
       "       [-2.03213179e+00],\n",
       "       [ 3.37037378e+00],\n",
       "       [ 2.60292789e+00],\n",
       "       [ 3.42761113e-01],\n",
       "       [ 6.80078673e+00],\n",
       "       [ 1.02100217e+00],\n",
       "       [-3.27235239e-01],\n",
       "       [ 1.82643995e+00],\n",
       "       [ 6.61239471e-01],\n",
       "       [-1.34743946e+00],\n",
       "       [-1.36855823e+00],\n",
       "       [ 1.73788489e+00],\n",
       "       [ 5.83650855e-02],\n",
       "       [-1.75813466e+01],\n",
       "       [ 1.35519333e+00],\n",
       "       [-5.97056634e+00],\n",
       "       [-5.48304884e-01],\n",
       "       [-3.62528335e-01],\n",
       "       [-5.78913529e+00],\n",
       "       [-1.06371114e+00],\n",
       "       [-1.30164696e+00],\n",
       "       [-1.97405887e+00],\n",
       "       [-4.49463617e+00],\n",
       "       [-2.71678149e-01],\n",
       "       [-1.37206640e+00],\n",
       "       [ 8.30009912e-01],\n",
       "       [-1.41899941e+00],\n",
       "       [ 8.85890150e-01],\n",
       "       [-7.76395640e-01],\n",
       "       [ 8.97129317e-01],\n",
       "       [ 1.38473749e+00],\n",
       "       [ 1.70220456e+00],\n",
       "       [-4.60838547e-01],\n",
       "       [-4.16164231e-01],\n",
       "       [-8.69308826e-01],\n",
       "       [ 1.24578058e-01],\n",
       "       [-6.22973411e-04],\n",
       "       [-6.59252753e-02],\n",
       "       [ 4.65979071e-01],\n",
       "       [-7.22732294e-01],\n",
       "       [-5.44849267e-01],\n",
       "       [ 3.26481682e-01],\n",
       "       [ 9.94938305e+00],\n",
       "       [-2.42497120e+00],\n",
       "       [ 2.70205650e+00],\n",
       "       [ 6.59031932e-01],\n",
       "       [ 2.29789555e-01],\n",
       "       [-2.68786522e+00],\n",
       "       [ 1.76041028e+02],\n",
       "       [ 1.88468537e+00],\n",
       "       [-7.25862653e-01],\n",
       "       [-8.85348725e-01]])"
      ]
     },
     "execution_count": 17,
     "metadata": {},
     "output_type": "execute_result"
    }
   ],
   "source": [
    "y_pred_poly = lr2.predict(x_poly_test)\n",
    "y_pred_poly"
   ]
  },
  {
   "cell_type": "code",
   "execution_count": 18,
   "id": "5c3e6cc2",
   "metadata": {},
   "outputs": [
    {
     "data": {
      "text/plain": [
       "11758.448611762376"
      ]
     },
     "execution_count": 18,
     "metadata": {},
     "output_type": "execute_result"
    }
   ],
   "source": [
    "mean_squared_error(y_test, y_pred_poly)"
   ]
  },
  {
   "cell_type": "code",
   "execution_count": 19,
   "id": "1ae6a33f",
   "metadata": {},
   "outputs": [
    {
     "data": {
      "text/plain": [
       "-14673.087858597894"
      ]
     },
     "execution_count": 19,
     "metadata": {},
     "output_type": "execute_result"
    }
   ],
   "source": [
    "r2_score(y_test, y_pred_poly)"
   ]
  },
  {
   "cell_type": "code",
   "execution_count": 20,
   "id": "e3c875d9",
   "metadata": {},
   "outputs": [],
   "source": [
    "from sklearn.linear_model import Ridge\n",
    "from sklearn.linear_model import Lasso"
   ]
  },
  {
   "cell_type": "code",
   "execution_count": 21,
   "id": "5b8940e3",
   "metadata": {},
   "outputs": [
    {
     "name": "stdout",
     "output_type": "stream",
     "text": [
      "Ridge model: [[-0.09243194  0.26519546 -0.0275854  -0.78269954  0.04816019  0.37006477\n",
      "   0.1028426 ]]\n"
     ]
    }
   ],
   "source": [
    "ridge = Ridge(alpha = .1)\n",
    "ridge.fit(X_train,y_train)\n",
    "print(\"Ridge model:\",(ridge.coef_))"
   ]
  },
  {
   "cell_type": "code",
   "execution_count": 22,
   "id": "7cdc2850",
   "metadata": {},
   "outputs": [
    {
     "name": "stdout",
     "output_type": "stream",
     "text": [
      "Lasso model: [-0.         -0.         -0.         -0.64272223  0.          0.29092031\n",
      "  0.01958313]\n"
     ]
    }
   ],
   "source": [
    "lasso = Lasso(alpha=0.1)\n",
    "lasso.fit(X_train,y_train)\n",
    "print(\"Lasso model:\",(lasso.coef_))"
   ]
  },
  {
   "cell_type": "code",
   "execution_count": 23,
   "id": "17eb33ba",
   "metadata": {},
   "outputs": [],
   "source": [
    "y_ridge_pred=ridge.predict(X_test)"
   ]
  },
  {
   "cell_type": "code",
   "execution_count": 24,
   "id": "c70bd37b",
   "metadata": {},
   "outputs": [],
   "source": [
    "y_lasso_pred=lasso.predict(X_test)"
   ]
  },
  {
   "cell_type": "code",
   "execution_count": 25,
   "id": "2d7d58c3",
   "metadata": {},
   "outputs": [
    {
     "name": "stdout",
     "output_type": "stream",
     "text": [
      "0.1477518110805872\n",
      "0.1677884174055553\n"
     ]
    }
   ],
   "source": [
    "print(mean_squared_error(y_test,y_ridge_pred))\n",
    "print(mean_squared_error(y_test,y_lasso_pred))"
   ]
  },
  {
   "cell_type": "code",
   "execution_count": 26,
   "id": "d7b46b95",
   "metadata": {},
   "outputs": [
    {
     "name": "stdout",
     "output_type": "stream",
     "text": [
      "0.8156114697907811\n",
      "0.790606562144495\n"
     ]
    }
   ],
   "source": [
    "print(r2_score(y_test,y_ridge_pred))\n",
    "print(r2_score(y_test,y_lasso_pred))"
   ]
  },
  {
   "cell_type": "code",
   "execution_count": null,
   "id": "31e16e29",
   "metadata": {},
   "outputs": [],
   "source": []
  },
  {
   "cell_type": "code",
   "execution_count": null,
   "id": "3a6a9ded",
   "metadata": {},
   "outputs": [],
   "source": []
  }
 ],
 "metadata": {
  "kernelspec": {
   "display_name": "Python 3 (ipykernel)",
   "language": "python",
   "name": "python3"
  },
  "language_info": {
   "codemirror_mode": {
    "name": "ipython",
    "version": 3
   },
   "file_extension": ".py",
   "mimetype": "text/x-python",
   "name": "python",
   "nbconvert_exporter": "python",
   "pygments_lexer": "ipython3",
   "version": "3.9.13"
  }
 },
 "nbformat": 4,
 "nbformat_minor": 5
}
