{
 "cells": [
  {
   "cell_type": "code",
   "execution_count": 1,
   "id": "7ac85947",
   "metadata": {},
   "outputs": [],
   "source": [
    "import pandas as pd\n",
    "import numpy as np\n",
    "import seaborn as sns\n",
    "import matplotlib.pyplot as plt"
   ]
  },
  {
   "cell_type": "code",
   "execution_count": 2,
   "id": "da919246",
   "metadata": {},
   "outputs": [
    {
     "data": {
      "text/html": [
       "<div>\n",
       "<style scoped>\n",
       "    .dataframe tbody tr th:only-of-type {\n",
       "        vertical-align: middle;\n",
       "    }\n",
       "\n",
       "    .dataframe tbody tr th {\n",
       "        vertical-align: top;\n",
       "    }\n",
       "\n",
       "    .dataframe thead th {\n",
       "        text-align: right;\n",
       "    }\n",
       "</style>\n",
       "<table border=\"1\" class=\"dataframe\">\n",
       "  <thead>\n",
       "    <tr style=\"text-align: right;\">\n",
       "      <th></th>\n",
       "      <th>YearsExperience</th>\n",
       "      <th>Salary</th>\n",
       "    </tr>\n",
       "  </thead>\n",
       "  <tbody>\n",
       "    <tr>\n",
       "      <th>0</th>\n",
       "      <td>1.1</td>\n",
       "      <td>39343.0</td>\n",
       "    </tr>\n",
       "    <tr>\n",
       "      <th>1</th>\n",
       "      <td>1.3</td>\n",
       "      <td>46205.0</td>\n",
       "    </tr>\n",
       "    <tr>\n",
       "      <th>2</th>\n",
       "      <td>1.5</td>\n",
       "      <td>37731.0</td>\n",
       "    </tr>\n",
       "    <tr>\n",
       "      <th>3</th>\n",
       "      <td>2.0</td>\n",
       "      <td>43525.0</td>\n",
       "    </tr>\n",
       "    <tr>\n",
       "      <th>4</th>\n",
       "      <td>2.2</td>\n",
       "      <td>39891.0</td>\n",
       "    </tr>\n",
       "  </tbody>\n",
       "</table>\n",
       "</div>"
      ],
      "text/plain": [
       "   YearsExperience   Salary\n",
       "0              1.1  39343.0\n",
       "1              1.3  46205.0\n",
       "2              1.5  37731.0\n",
       "3              2.0  43525.0\n",
       "4              2.2  39891.0"
      ]
     },
     "execution_count": 2,
     "metadata": {},
     "output_type": "execute_result"
    }
   ],
   "source": [
    "df=pd.read_csv(\"Salary_Data.csv\")\n",
    "df.head()"
   ]
  },
  {
   "cell_type": "code",
   "execution_count": 5,
   "id": "a1261c7c",
   "metadata": {},
   "outputs": [],
   "source": [
    "x=df['YearsExperience']\n",
    "y=df['Salary']"
   ]
  },
  {
   "cell_type": "code",
   "execution_count": 6,
   "id": "cff748c6",
   "metadata": {},
   "outputs": [],
   "source": [
    "from sklearn.preprocessing import StandardScaler"
   ]
  },
  {
   "cell_type": "code",
   "execution_count": 7,
   "id": "09718205",
   "metadata": {},
   "outputs": [],
   "source": [
    "object = StandardScaler()\n",
    "\n",
    "x = object.fit_transform(x.values.reshape(-1,1))"
   ]
  },
  {
   "cell_type": "code",
   "execution_count": 8,
   "id": "541f8b69",
   "metadata": {},
   "outputs": [
    {
     "data": {
      "text/plain": [
       "array([[-1.51005294],\n",
       "       [-1.43837321],\n",
       "       [-1.36669348],\n",
       "       [-1.18749416],\n",
       "       [-1.11581443],\n",
       "       [-0.86493538],\n",
       "       [-0.82909552],\n",
       "       [-0.75741579],\n",
       "       [-0.75741579],\n",
       "       [-0.57821647],\n",
       "       [-0.50653674],\n",
       "       [-0.47069688],\n",
       "       [-0.47069688],\n",
       "       [-0.43485702],\n",
       "       [-0.29149756],\n",
       "       [-0.1481381 ],\n",
       "       [-0.07645838],\n",
       "       [-0.00477865],\n",
       "       [ 0.21026054],\n",
       "       [ 0.2461004 ],\n",
       "       [ 0.53281931],\n",
       "       [ 0.6403389 ],\n",
       "       [ 0.92705781],\n",
       "       [ 1.03457741],\n",
       "       [ 1.21377673],\n",
       "       [ 1.32129632],\n",
       "       [ 1.50049564],\n",
       "       [ 1.5363355 ],\n",
       "       [ 1.78721455],\n",
       "       [ 1.85889428]])"
      ]
     },
     "execution_count": 8,
     "metadata": {},
     "output_type": "execute_result"
    }
   ],
   "source": [
    "x"
   ]
  },
  {
   "cell_type": "code",
   "execution_count": 14,
   "id": "8d2d551d",
   "metadata": {},
   "outputs": [],
   "source": [
    "from sklearn.linear_model import LinearRegression\n"
   ]
  },
  {
   "cell_type": "code",
   "execution_count": 15,
   "id": "b391d054",
   "metadata": {},
   "outputs": [],
   "source": [
    "from sklearn.model_selection import train_test_split\n",
    "from sklearn.metrics import mean_squared_error, r2_score\n",
    "X_train, X_test, y_train, y_test = train_test_split(x,y, test_size=0.25,random_state=25)"
   ]
  },
  {
   "cell_type": "code",
   "execution_count": 16,
   "id": "bb2fcd6c",
   "metadata": {},
   "outputs": [],
   "source": [
    "lr = LinearRegression()"
   ]
  },
  {
   "cell_type": "code",
   "execution_count": 17,
   "id": "1edbc427",
   "metadata": {},
   "outputs": [
    {
     "data": {
      "text/plain": [
       "LinearRegression()"
      ]
     },
     "execution_count": 17,
     "metadata": {},
     "output_type": "execute_result"
    }
   ],
   "source": [
    "lr.fit(X_train, y_train)"
   ]
  },
  {
   "cell_type": "code",
   "execution_count": 18,
   "id": "38758ce7",
   "metadata": {},
   "outputs": [
    {
     "data": {
      "text/plain": [
       "array([ 82908.82590531,  64294.59557196,  41026.80765526,  61502.46102195,\n",
       "       108038.03685534, 116414.44050535,  63363.88405529,  68948.15315529])"
      ]
     },
     "execution_count": 18,
     "metadata": {},
     "output_type": "execute_result"
    }
   ],
   "source": [
    "y_pred=lr.predict(X_test)\n",
    "y_pred"
   ]
  },
  {
   "cell_type": "code",
   "execution_count": 19,
   "id": "a79cdbf6",
   "metadata": {},
   "outputs": [
    {
     "data": {
      "text/plain": [
       "6134.757428646659"
      ]
     },
     "execution_count": 19,
     "metadata": {},
     "output_type": "execute_result"
    }
   ],
   "source": [
    "test_rmse = np.sqrt(mean_squared_error(y_test, y_pred))\n",
    "test_rmse"
   ]
  },
  {
   "cell_type": "code",
   "execution_count": 20,
   "id": "9b54e626",
   "metadata": {},
   "outputs": [
    {
     "data": {
      "text/plain": [
       "0.960352162107771"
      ]
     },
     "execution_count": 20,
     "metadata": {},
     "output_type": "execute_result"
    }
   ],
   "source": [
    "lr.score(X_train,y_train)"
   ]
  },
  {
   "cell_type": "code",
   "execution_count": 21,
   "id": "3ff1180a",
   "metadata": {},
   "outputs": [
    {
     "data": {
      "text/plain": [
       "LinearRegression()"
      ]
     },
     "execution_count": 21,
     "metadata": {},
     "output_type": "execute_result"
    }
   ],
   "source": [
    "from sklearn.preprocessing import PolynomialFeatures\n",
    "\n",
    "poly = PolynomialFeatures(degree = 4)\n",
    "\n",
    "x_poly_train = poly.fit_transform(X_train)\n",
    "x_poly_test = poly.fit_transform(X_test)\n",
    "\n",
    "lr2 = LinearRegression()\n",
    "lr2.fit(x_poly_train, y_train)"
   ]
  },
  {
   "cell_type": "code",
   "execution_count": 22,
   "id": "8e5319ce",
   "metadata": {},
   "outputs": [
    {
     "name": "stdout",
     "output_type": "stream",
     "text": [
      "[    0.         29732.82785825  2985.30924117 -1978.76850127\n",
      "  -556.55333496]\n"
     ]
    }
   ],
   "source": [
    "print(lr2.coef_)"
   ]
  },
  {
   "cell_type": "code",
   "execution_count": 23,
   "id": "0c8913b0",
   "metadata": {},
   "outputs": [
    {
     "name": "stdout",
     "output_type": "stream",
     "text": [
      "75261.50276458659\n"
     ]
    }
   ],
   "source": [
    "print(lr2.intercept_)"
   ]
  },
  {
   "cell_type": "code",
   "execution_count": 24,
   "id": "5d7f9292",
   "metadata": {},
   "outputs": [
    {
     "data": {
      "text/plain": [
       "array([ 82728.03462646,  62106.80271263,  43311.57335678,  59387.90273248,\n",
       "       111002.21303056, 117711.25235058,  61187.23689796,  66893.11354081])"
      ]
     },
     "execution_count": 24,
     "metadata": {},
     "output_type": "execute_result"
    }
   ],
   "source": [
    "y_pred_poly = lr2.predict(x_poly_test)\n",
    "y_pred_poly"
   ]
  },
  {
   "cell_type": "code",
   "execution_count": 25,
   "id": "8536ca76",
   "metadata": {},
   "outputs": [
    {
     "data": {
      "text/plain": [
       "33416437.7416283"
      ]
     },
     "execution_count": 25,
     "metadata": {},
     "output_type": "execute_result"
    }
   ],
   "source": [
    "mean_squared_error(y_test, y_pred_poly)"
   ]
  },
  {
   "cell_type": "code",
   "execution_count": 26,
   "id": "8f4c6de5",
   "metadata": {},
   "outputs": [
    {
     "data": {
      "text/plain": [
       "0.9501004766160434"
      ]
     },
     "execution_count": 26,
     "metadata": {},
     "output_type": "execute_result"
    }
   ],
   "source": [
    "r2_score(y_test, y_pred_poly)"
   ]
  },
  {
   "cell_type": "code",
   "execution_count": null,
   "id": "c194f040",
   "metadata": {},
   "outputs": [],
   "source": []
  },
  {
   "cell_type": "code",
   "execution_count": null,
   "id": "a5756ee7",
   "metadata": {},
   "outputs": [],
   "source": []
  }
 ],
 "metadata": {
  "kernelspec": {
   "display_name": "Python 3 (ipykernel)",
   "language": "python",
   "name": "python3"
  },
  "language_info": {
   "codemirror_mode": {
    "name": "ipython",
    "version": 3
   },
   "file_extension": ".py",
   "mimetype": "text/x-python",
   "name": "python",
   "nbconvert_exporter": "python",
   "pygments_lexer": "ipython3",
   "version": "3.9.13"
  }
 },
 "nbformat": 4,
 "nbformat_minor": 5
}
